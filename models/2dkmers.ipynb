{
 "cells": [
  {
   "cell_type": "code",
   "execution_count": 8,
   "metadata": {},
   "outputs": [],
   "source": [
    "import pandas as pd\n",
    "import numpy as np"
   ]
  },
  {
   "cell_type": "code",
   "execution_count": 9,
   "metadata": {},
   "outputs": [],
   "source": [
    "data = pd.read_csv('../data/weak_strong_non.csv')\n",
    "seqs = data.Seq"
   ]
  },
  {
   "cell_type": "code",
   "execution_count": 10,
   "metadata": {},
   "outputs": [],
   "source": [
    "test_seq = seqs[0]"
   ]
  },
  {
   "cell_type": "code",
   "execution_count": 11,
   "metadata": {},
   "outputs": [],
   "source": [
    "def get_kmers(sequences, kmer=4):\n",
    "    return_seqs = sequences.copy()\n",
    "    if kmer <= 1:\n",
    "        raise ValueError(\"kmer size must be greater than 1\")\n",
    "    for seq_index, seq in sequences.iteritems():\n",
    "        kmer_list = []\n",
    "        for let_index, let in enumerate(seq[:-kmer + 1]):\n",
    "            kmer_list.append(seq[let_index:let_index + kmer])\n",
    "        return_seqs[seq_index] = kmer_list\n",
    "    return return_seqs"
   ]
  },
  {
   "cell_type": "code",
   "execution_count": 12,
   "metadata": {},
   "outputs": [
    {
     "name": "stdout",
     "output_type": "stream",
     "text": [
      "80\n",
      "79\n",
      "78\n",
      "77\n",
      "76\n",
      "75\n",
      "74\n",
      "73\n"
     ]
    }
   ],
   "source": [
    "for i in range(2, 10):\n",
    "    print(len(*get_kmers(pd.Series([test_seq]), kmer=i)))"
   ]
  },
  {
   "cell_type": "code",
   "execution_count": 76,
   "metadata": {},
   "outputs": [],
   "source": [
    "def get_2d_kmer(seqs, mnm, mxm):\n",
    "    return_seqs = []\n",
    "    for _, val in seqs.iteritems():\n",
    "        kmer_seqs = []\n",
    "        for i in range(mnm, mxm+1):\n",
    "            kmers = list(get_kmers(pd.Series([val]), kmer=i))[0]\n",
    "            kmers += [kmers[-1] for _ in range(i-1)]\n",
    "            kmer_seqs.append(kmers)\n",
    "        return_seqs.append(kmer_seqs)\n",
    "    \n",
    "    return pd.Series(return_seqs)"
   ]
  },
  {
   "cell_type": "code",
   "execution_count": 82,
   "metadata": {},
   "outputs": [],
   "source": [
    "d2_kmers = get_2d_kmer(seqs=seqs, mnm=3,mxm=7)"
   ]
  },
  {
   "cell_type": "code",
   "execution_count": 83,
   "metadata": {},
   "outputs": [
    {
     "data": {
      "text/plain": [
       "0       [[TAG, AGA, GAT, ATG, TGT, GTC, TCC, CCT, CTT,...\n",
       "1       [[AAA, AAG, AGA, GAA, AAA, AAA, AAT, ATA, TAA,...\n",
       "2       [[CTG, TGC, GCT, CTG, TGT, GTT, TTC, TCC, CCT,...\n",
       "3       [[GCG, CGG, GGA, GAA, AAG, AGC, GCA, CAC, ACA,...\n",
       "4       [[AAA, AAT, ATA, TAC, ACT, CTT, TTA, TAT, ATG,...\n",
       "                              ...                        \n",
       "6759    [[CGC, GCA, CAA, AAA, AAG, AGT, GTA, TAA, AAA,...\n",
       "6760    [[CAA, AAC, ACC, CCT, CTT, TTT, TTT, TTA, TAC,...\n",
       "6761    [[GGG, GGC, GCA, CAG, AGG, GGC, GCA, CAA, AAA,...\n",
       "6762    [[TGA, GAT, ATT, TTT, TTG, TGT, GTA, TAT, ATG,...\n",
       "6763    [[ACT, CTC, TCA, CAG, AGT, GTC, TCA, CAT, ATT,...\n",
       "Length: 6764, dtype: object"
      ]
     },
     "execution_count": 83,
     "metadata": {},
     "output_type": "execute_result"
    }
   ],
   "source": [
    "d2_kmers"
   ]
  },
  {
   "cell_type": "code",
   "execution_count": null,
   "metadata": {},
   "outputs": [],
   "source": []
  }
 ],
 "metadata": {
  "kernelspec": {
   "display_name": "Python 3.9.12 ('base')",
   "language": "python",
   "name": "python3"
  },
  "language_info": {
   "codemirror_mode": {
    "name": "ipython",
    "version": 3
   },
   "file_extension": ".py",
   "mimetype": "text/x-python",
   "name": "python",
   "nbconvert_exporter": "python",
   "pygments_lexer": "ipython3",
   "version": "3.9.12"
  },
  "orig_nbformat": 4,
  "vscode": {
   "interpreter": {
    "hash": "0467c16d4e73dba61dcc106221b4b7c95372fa61fc6cc648ee99bca30bbaf279"
   }
  }
 },
 "nbformat": 4,
 "nbformat_minor": 2
}
