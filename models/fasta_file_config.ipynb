{
 "cells": [
  {
   "cell_type": "code",
   "execution_count": 27,
   "metadata": {},
   "outputs": [],
   "source": [
    "import pandas as pd\n",
    "from Bio import SeqIO\n",
    "from Bio.SeqRecord import SeqRecord\n",
    "import numpy as np"
   ]
  },
  {
   "cell_type": "code",
   "execution_count": 1,
   "metadata": {},
   "outputs": [],
   "source": [
    "all_seqs = 'data/all_seqs.fasta'\n",
    "promoters = 'data/promoter.txt'\n",
    "non_promoters = 'data/non_promoter.txt'"
   ]
  },
  {
   "cell_type": "code",
   "execution_count": 12,
   "metadata": {},
   "outputs": [],
   "source": [
    "new_lines = []"
   ]
  },
  {
   "cell_type": "code",
   "execution_count": 55,
   "metadata": {},
   "outputs": [],
   "source": [
    "new_lines = []\n",
    "for record in SeqIO.parse(promoters, \"fasta\"):\n",
    "    new_lines.append('>' + record.description.split()[-1])\n",
    "    new_lines.append(str(record.seq))\n",
    "\n",
    "for index, value in enumerate(new_lines):\n",
    "    if value == \">SIGMA38\":\n",
    "        new_lines[index] = \">STRONG\"\n",
    "\n",
    "with open('data/non_promoter.txt') as file:\n",
    "    f = list(map(str.strip, file.readlines()))\n",
    "    for seq in f:\n",
    "        new_lines.append('>NON')\n",
    "        new_lines.append(seq)\n",
    "\n",
    "new_lines = list(map(lambda x: x + '\\n', new_lines))"
   ]
  },
  {
   "cell_type": "code",
   "execution_count": 56,
   "metadata": {},
   "outputs": [],
   "source": [
    "with open('data/all_seqs.fasta', 'w') as f:\n",
    "    f.writelines(new_lines)"
   ]
  },
  {
   "cell_type": "code",
   "execution_count": null,
   "metadata": {},
   "outputs": [],
   "source": []
  }
 ],
 "metadata": {
  "kernelspec": {
   "display_name": "Python 3.9.12 ('base')",
   "language": "python",
   "name": "python3"
  },
  "language_info": {
   "codemirror_mode": {
    "name": "ipython",
    "version": 3
   },
   "file_extension": ".py",
   "mimetype": "text/x-python",
   "name": "python",
   "nbconvert_exporter": "python",
   "pygments_lexer": "ipython3",
   "version": "3.9.12"
  },
  "orig_nbformat": 4,
  "vscode": {
   "interpreter": {
    "hash": "0467c16d4e73dba61dcc106221b4b7c95372fa61fc6cc648ee99bca30bbaf279"
   }
  }
 },
 "nbformat": 4,
 "nbformat_minor": 2
}
