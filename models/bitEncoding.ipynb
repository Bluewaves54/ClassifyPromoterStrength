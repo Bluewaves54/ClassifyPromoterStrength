{
 "cells": [
  {
   "cell_type": "code",
   "execution_count": null,
   "metadata": {},
   "outputs": [],
   "source": [
    "import pandas as pd\n",
    "import numpy as np\n",
    "import matplotlib.pyplot as plt\n",
    "\n",
    "import tensorflow as tf\n",
    "import keras\n",
    "from keras import layers\n",
    "from keras.utils import np_utils\n",
    "\n",
    "from sklearn.metrics import (\n",
    "    confusion_matrix,\n",
    "    accuracy_score,\n",
    ")\n",
    "from sklearn.model_selection import (\n",
    "    train_test_split as tts,\n",
    "    StratifiedKFold\n",
    ")\n",
    "from sklearn import metrics\n",
    "from sklearn.preprocessing import LabelEncoder\n",
    "from sklearn.utils.multiclass import type_of_target\n",
    "\n",
    "import seaborn as sns\n",
    "\n",
    "from Bio import SeqIO\n",
    "from Bio.Seq import Seq"
   ]
  },
  {
   "cell_type": "code",
   "execution_count": null,
   "metadata": {},
   "outputs": [],
   "source": [
    "data = pd.read_csv('../data/pro_nonpro.csv')\n",
    "\n",
    "y = data.Level\n",
    "x = data.Seq\n",
    "\n",
    "# class_maps = {\n",
    "#     'NON': 0,\n",
    "#     'WEAK': 1,\n",
    "#     'STRONG': 2\n",
    "# }\n",
    "# for index, val in y.iteritems():\n",
    "#     y[index] = class_maps[val]\n",
    "\n",
    "le = LabelEncoder()\n",
    "\n",
    "y = pd.Series(le.fit_transform(y))\n",
    "\n",
    "maps = {\n",
    "    'A': '00',\n",
    "    'T': '01',\n",
    "    'G': '10',\n",
    "    'C': '11'\n",
    "}\n",
    "\n",
    "binary_encodings = []\n",
    "for index, val in x.iteritems():\n",
    "    binary_encodings.append('1' + ''.join([maps[i] for i in val]))\n",
    "\n",
    "x = pd.DataFrame([[int(i) for i in j] for j in binary_encodings], columns = range(163))"
   ]
  },
  {
   "cell_type": "code",
   "execution_count": null,
   "metadata": {},
   "outputs": [],
   "source": [
    "num_features = 163\n",
    "num_classes = 2\n",
    "num_epochs=50"
   ]
  },
  {
   "cell_type": "code",
   "execution_count": null,
   "metadata": {},
   "outputs": [],
   "source": [
    "def DCNN(features):\n",
    "    model = keras.Sequential()\n",
    "    model.add(layers.Dropout(0.1, input_shape=(features, 1)))\n",
    "    model.add(layers.Conv1D(32, 3, activation='softsign', input_shape=(features, 1)))\n",
    "    model.add(layers.MaxPooling1D(2))\n",
    "    model.add(layers.Flatten())\n",
    "    model.add(layers.Dense(32, activation='softsign'))\n",
    "    model.add(layers.Dense(2, activation='softmax'))\n",
    "    model.compile(loss='categorical_crossentropy', optimizer='Adagrad', metrics=['accuracy'])\n",
    "    return model"
   ]
  },
  {
   "cell_type": "code",
   "execution_count": null,
   "metadata": {},
   "outputs": [],
   "source": [
    "type_of_target(y)"
   ]
  },
  {
   "cell_type": "code",
   "execution_count": null,
   "metadata": {},
   "outputs": [],
   "source": [
    "kfold = StratifiedKFold(n_splits=5, shuffle=True)\n",
    "\n",
    "for train, test in kfold.split(x, y):\n",
    "    model = DCNN(num_features)\n",
    "    trn_new = np.asarray(x.iloc[train])\n",
    "    tst_new = np.asarray(x.iloc[test])\n",
    "\n",
    "    model.fit(\n",
    "\n",
    "        trn_new.reshape(len(trn_new), num_features, 1),\n",
    "        np_utils.to_categorical(y.iloc[train], num_classes),\n",
    "        epochs = num_epochs,\n",
    "        batch_size=20,\n",
    "        verbose=True,\n",
    "        # class_weight='auto'\n",
    "    )\n",
    "\n",
    "    # tst_new.reshape(len(tst_new)\n",
    "\n",
    "    predictions = model.predict(tst_new.reshape(len(tst_new), num_features, 1))\n",
    "    predictions = np.argmax(predictions, axis=1)\n",
    "    true_labels = np.asarray(y.iloc[test])\n",
    "    print('CV: ', confusion_matrix(true_labels, predictions))"
   ]
  },
  {
   "cell_type": "code",
   "execution_count": null,
   "metadata": {},
   "outputs": [],
   "source": [
    "sns.heatmap(pd.DataFrame(confusion_matrix(true_labels, predictions), range(2), range(2)), annot=True)\n",
    "plt.show()"
   ]
  },
  {
   "cell_type": "code",
   "execution_count": null,
   "metadata": {},
   "outputs": [],
   "source": []
  }
 ],
 "metadata": {
  "kernelspec": {
   "display_name": "Python 3.9.12 ('base')",
   "language": "python",
   "name": "python3"
  },
  "language_info": {
   "codemirror_mode": {
    "name": "ipython",
    "version": 3
   },
   "file_extension": ".py",
   "mimetype": "text/x-python",
   "name": "python",
   "nbconvert_exporter": "python",
   "pygments_lexer": "ipython3",
   "version": "3.9.12 (main, Apr  4 2022, 05:22:27) [MSC v.1916 64 bit (AMD64)]"
  },
  "orig_nbformat": 4,
  "vscode": {
   "interpreter": {
    "hash": "0467c16d4e73dba61dcc106221b4b7c95372fa61fc6cc648ee99bca30bbaf279"
   }
  }
 },
 "nbformat": 4,
 "nbformat_minor": 2
}
