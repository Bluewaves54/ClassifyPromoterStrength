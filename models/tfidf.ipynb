{
 "cells": [
  {
   "cell_type": "code",
   "execution_count": 1,
   "metadata": {},
   "outputs": [],
   "source": [
    "import pandas as pd\n",
    "import numpy as np\n",
    "import seaborn as sns\n",
    "from matplotlib import pyplot as plt\n",
    "\n",
    "import tensorflow as tf\n",
    "import keras\n",
    "from keras import layers\n",
    "from keras.utils import np_utils\n",
    "\n",
    "from sklearn import metrics\n",
    "from sklearn.metrics import (\n",
    "    confusion_matrix,\n",
    "    accuracy_score\n",
    ")\n",
    "from sklearn.model_selection import (\n",
    "    train_test_split as tts,\n",
    "    StratifiedKFold)\n",
    "from sklearn.utils.multiclass import type_of_target\n",
    "\n",
    "from sklearn.feature_extraction.text import TfidfVectorizer\n",
    "from sklearn.preprocessing import LabelEncoder\n",
    "\n",
    "%matplotlib inline"
   ]
  },
  {
   "cell_type": "code",
   "execution_count": 51,
   "metadata": {},
   "outputs": [],
   "source": [
    "def get_kmers(sequences, kmer=4):\n",
    "    return_seqs = sequences.copy()\n",
    "    if kmer <= 1:\n",
    "        raise ValueError(\"kmer size must be greater than 1\")\n",
    "    for seq_index, seq in sequences.iteritems():\n",
    "        kmer_list = []\n",
    "        for let_index, let in enumerate(seq[:-kmer + 1]):\n",
    "            kmer_list.append(seq[let_index:let_index + kmer])\n",
    "        return_seqs[seq_index] = kmer_list\n",
    "    return return_seqs\n",
    "\n",
    "def get_2d_kmer(seqs, mnm, mxm):\n",
    "    return_seqs = []\n",
    "    for _, val in seqs.iteritems():\n",
    "        kmer_seqs = []\n",
    "        for i in range(mnm, mxm+1):\n",
    "            kmers = list(get_kmers(pd.Series([val]), kmer=i))[0]\n",
    "            # kmers += [kmers[-1] for _ in range(i-1)]\n",
    "            kmer_seqs.append(kmers)\n",
    "        return_seqs.append(kmer_seqs)\n",
    "    \n",
    "    return pd.Series(return_seqs)\n",
    "\n",
    "def dup_vecs(dfs):\n",
    "    dup_X_2d = []\n",
    "    for df_ind, df in enumerate(dfs):\n",
    "        num_dupes = 4**(2-df_ind)\n",
    "        print(num_dupes)\n",
    "        new_df = df.values.tolist()\n",
    "        for ind, seq in enumerate(new_df):\n",
    "            new_seq = []\n",
    "            for num in seq:\n",
    "                for i in range(num_dupes):\n",
    "                    new_seq.append(num)\n",
    "            new_df[ind] = new_seq\n",
    "        dup_X_2d.append(pd.DataFrame(new_df))\n",
    "\n",
    "    return dup_X_2d\n",
    "\n",
    "def tfidf_vectorize(tfidf, series):\n",
    "    new_series = []\n",
    "    for ind, _ in enumerate(series[0]):\n",
    "        new_series.append([series[i][ind] for i, _ in series.iteritems()])\n",
    "\n",
    "    new_series = pd.Series(new_series)\n",
    "    # return new_series\n",
    "\n",
    "    new_dfs = []\n",
    "    for ind, val in new_series.iteritems():\n",
    "        new_dfs.append(pd.DataFrame(tfidf.fit_transform(\n",
    "            [' '.join(v) for _, v in pd.Series(val).iteritems()]\n",
    "        ).toarray()))\n",
    "    \n",
    "    return new_dfs\n",
    "\n",
    "def get_dup_X_2d(X):\n",
    "    X_2d = get_2d_kmer(X, 4, 6)\n",
    "    tfidf = TfidfVectorizer()\n",
    "    vectorized_2d = tfidf_vectorize(tfidf, X_2d)\n",
    "    dup_X_2d = dup_vecs(vectorized_2d)\n",
    "    dup_X_2d = [i.values.tolist() for i in dup_X_2d]\n",
    "    dup_X_2d = np.array([[dup_X_2d[i][ind] for i in range(len(dup_X_2d))] for ind in range(len(dup_X_2d[0]))])\n",
    "    dup_X_2d = dup_X_2d.reshape(*dup_X_2d.shape, 1).astype('float32')\n",
    "    return dup_X_2d\n",
    "\n",
    "def get_X_1d(X):\n",
    "    X_1d = get_kmers(X, kmer=3)\n",
    "    tfidf = TfidfVectorizer()\n",
    "    X_1d = pd.DataFrame(\n",
    "        tfidf.fit_transform(\n",
    "            [' '.join(val) for index, val in X_1d.iteritems()]\n",
    "        ).toarray())\n",
    "    print(X_1d.shape)\n",
    "    X_1d = np.asarray(X_1d).reshape(*(X_1d.shape), 1).astype('float32')\n",
    "\n",
    "\n",
    "opt = keras.optimizers.Adam(learning_rate=0.0005)\n",
    "\n",
    "def DCNNv2(num_features, num_classes):\n",
    "    model = keras.Sequential()\n",
    "    # model.add(layers.Dropout(0.1, input_shape=(num_features, 1)))\n",
    "    model.add(layers.Conv1D(100, 3, activation='softsign', strides=2, input_shape=(num_features, 1)))\n",
    "    model.add(layers.Conv1D(50, 3, activation='softsign', strides=2))\n",
    "    model.add(layers.Conv1D(32, 3, activation='softsign', strides=2))\n",
    "    model.add(layers.MaxPooling1D(2))\n",
    "    model.add(layers.BatchNormalization())\n",
    "    model.add(layers.Flatten())\n",
    "    model.add(layers.Dense(32, activation='softsign'))\n",
    "    model.add(layers.Dropout(0.1))\n",
    "    # model.add(layers.Dropout(0.3))\n",
    "    model.add(layers.Dense(24, activation='softsign'))\n",
    "    model.add(layers.Dropout(0.2))\n",
    "    # model.add(layers.Dropout(0.3))\n",
    "    model.add(layers.Dense(16, activation='softsign'))\n",
    "    model.add(layers.Dropout(0.3))\n",
    "    # model.add(layers.Dropout(0.3))\n",
    "    model.add(layers.Dense(8, activation='softsign'))\n",
    "    model.add(layers.Dropout(0.4))\n",
    "    # model.add(layers.Dropout(0.3))\n",
    "    model.add(layers.Dense(num_classes, activation='softmax'))\n",
    "    model.compile(loss='categorical_crossentropy', optimizer=opt, metrics=['accuracy'])\n",
    "    return model\n",
    "\n",
    "\n",
    "\n",
    "def DCNNv1(num_features, num_classes):\n",
    "    model = keras.Sequential()\n",
    "    model.add(layers.Dropout(0.1, input_shape=(num_features, 1)))\n",
    "    model.add(layers.Conv1D(32, 5, activation='softsign', input_shape=(num_features, 1)))\n",
    "    model.add(layers.Dropout(0.2))\n",
    "    model.add(layers.BatchNormalization())\n",
    "    model.add(layers.MaxPooling1D(2))\n",
    "    model.add(layers.Flatten())\n",
    "    model.add(layers.Dense(32, activation='softsign'))\n",
    "    model.add(layers.Dense(num_classes, activation='softmax'))\n",
    "    model.compile(loss='categorical_crossentropy', optimizer=opt, metrics=['accuracy'])\n",
    "    return model\n",
    "\n",
    "def DCNNv3(num_features, num_classes, num_kmers):\n",
    "    model = keras.Sequential()\n",
    "    model.add(layers.Dropout(0.1, input_shape=(num_kmers, num_features, 1)))\n",
    "    model.add(layers.Conv2D(32, (2, 3), activation='softsign', input_shape=(num_kmers, num_features, 1)))\n",
    "    model.add(layers.Dropout(0.1))\n",
    "    model.add(layers.BatchNormalization())\n",
    "    model.add(layers.MaxPooling2D(2))\n",
    "    model.add(layers.Flatten())\n",
    "    model.add(layers.Dense(32, activation='softsign'))\n",
    "    model.add(layers.Dense(num_classes, activation='softmax'))\n",
    "    model.compile(loss='categorical_crossentropy', optimizer=opt, metrics=['accuracy'])\n",
    "    return model\n",
    "\n",
    "def DCNNv4(num_features, num_classes, num_kmers):\n",
    "    inputs = []"
   ]
  },
  {
   "cell_type": "code",
   "execution_count": 3,
   "metadata": {},
   "outputs": [],
   "source": [
    "data = pd.read_csv('../data/pro_nonpro.csv')\n",
    "data = data.sample(frac=1).reset_index(drop=True)"
   ]
  },
  {
   "cell_type": "code",
   "execution_count": 4,
   "metadata": {},
   "outputs": [],
   "source": [
    "X = data.Seq\n",
    "y = data.Level\n",
    "\n",
    "le = LabelEncoder()\n",
    "y = pd.Series(le.fit_transform(y))"
   ]
  },
  {
   "cell_type": "code",
   "execution_count": 7,
   "metadata": {},
   "outputs": [],
   "source": [
    "# there are 4 letters, the vocabulary roughly follows powers of four because those are the possible combinations of length kmer"
   ]
  },
  {
   "cell_type": "code",
   "execution_count": 39,
   "metadata": {},
   "outputs": [],
   "source": [
    "def categorical_X_1d(X):\n",
    "    X_kmers = get_2d_kmer(X, mnm=3, mxm=6)\n",
    "    tfidf = TfidfVectorizer()\n",
    "    vectorized_2d = tfidf_vectorize(tfidf, X_kmers)\n",
    "    new_df = []\n",
    "    for seq_ind in range(len(vectorized_2d[0])):\n",
    "        new_row = []\n",
    "        for vec_ind in range(len(vectorized_2d)):\n",
    "            new_row += list(vectorized_2d[vec_ind].iloc[seq_ind,:])\n",
    "        \n",
    "        new_df.append(new_row)\n",
    "    \n",
    "    new_df = pd.DataFrame(new_df)\n",
    "\n",
    "    new_df = np.asarray(new_df).reshape(*new_df.shape, 1).astype('float32')\n",
    "    return new_df\n"
   ]
  },
  {
   "cell_type": "code",
   "execution_count": 40,
   "metadata": {},
   "outputs": [],
   "source": [
    "categ_X = categorical_X_1d(X)"
   ]
  },
  {
   "cell_type": "code",
   "execution_count": 47,
   "metadata": {},
   "outputs": [],
   "source": [
    "num_features = 5440\n",
    "num_classes = 2\n",
    "num_epochs = 50"
   ]
  },
  {
   "cell_type": "code",
   "execution_count": 16,
   "metadata": {},
   "outputs": [],
   "source": [
    "# X_1d = np.asarray(X_1d).reshape(len(X_1d), num_features, 1).astype('float32')"
   ]
  },
  {
   "cell_type": "code",
   "execution_count": 19,
   "metadata": {},
   "outputs": [],
   "source": [
    "# kfold = StratifiedKFold(n_splits=5, shuffle=True)"
   ]
  },
  {
   "cell_type": "code",
   "execution_count": 6,
   "metadata": {},
   "outputs": [
    {
     "name": "stdout",
     "output_type": "stream",
     "text": [
      "16\n",
      "4\n",
      "1\n"
     ]
    }
   ],
   "source": [
    "X_2d = get_dup_X_2d(X)"
   ]
  },
  {
   "cell_type": "code",
   "execution_count": 44,
   "metadata": {},
   "outputs": [],
   "source": [
    "X_train, X_test, y_train, y_test = tts(categ_X, y, train_size=0.7)\n",
    "y_train = np_utils.to_categorical(y_train, num_classes)\n",
    "y_test_keras = np_utils.to_categorical(y_test, num_classes)"
   ]
  },
  {
   "cell_type": "code",
   "execution_count": 21,
   "metadata": {},
   "outputs": [
    {
     "ename": "NameError",
     "evalue": "name 'model' is not defined",
     "output_type": "error",
     "traceback": [
      "\u001b[1;31m---------------------------------------------------------------------------\u001b[0m",
      "\u001b[1;31mNameError\u001b[0m                                 Traceback (most recent call last)",
      "\u001b[1;32mf:\\ayush\\Coding\\MachineLearning\\SophomoreProject\\models\\tfidf.ipynb Cell 21\u001b[0m in \u001b[0;36m<cell line: 1>\u001b[1;34m()\u001b[0m\n\u001b[0;32m      <a href='vscode-notebook-cell:/f%3A/ayush/Coding/MachineLearning/SophomoreProject/models/tfidf.ipynb#X11sZmlsZQ%3D%3D?line=0'>1</a>\u001b[0m \u001b[39mfor\u001b[39;00m i \u001b[39min\u001b[39;00m \u001b[39mrange\u001b[39m(\u001b[39m15\u001b[39m):\n\u001b[1;32m----> <a href='vscode-notebook-cell:/f%3A/ayush/Coding/MachineLearning/SophomoreProject/models/tfidf.ipynb#X11sZmlsZQ%3D%3D?line=1'>2</a>\u001b[0m     display(model\u001b[39m.\u001b[39mlayers[i]\u001b[39m.\u001b[39mget_output_shape_at(\u001b[39m0\u001b[39m))\n",
      "\u001b[1;31mNameError\u001b[0m: name 'model' is not defined"
     ]
    }
   ],
   "source": [
    "for i in range(15):\n",
    "    display(model.layers[i].get_output_shape_at(0))"
   ]
  },
  {
   "cell_type": "code",
   "execution_count": 52,
   "metadata": {},
   "outputs": [
    {
     "name": "stdout",
     "output_type": "stream",
     "text": [
      "Epoch 1/50\n",
      "37/37 [==============================] - 1s 26ms/step - loss: 0.5374 - accuracy: 0.7771 - val_loss: 0.5454 - val_accuracy: 0.7970\n",
      "Epoch 2/50\n",
      "37/37 [==============================] - 1s 22ms/step - loss: 0.3792 - accuracy: 0.8428 - val_loss: 0.5218 - val_accuracy: 0.8094\n",
      "Epoch 3/50\n",
      "37/37 [==============================] - 1s 22ms/step - loss: 0.3395 - accuracy: 0.8663 - val_loss: 0.4992 - val_accuracy: 0.8094\n",
      "Epoch 4/50\n",
      "37/37 [==============================] - 1s 22ms/step - loss: 0.3081 - accuracy: 0.8817 - val_loss: 0.4781 - val_accuracy: 0.8153\n",
      "Epoch 5/50\n",
      "37/37 [==============================] - 1s 22ms/step - loss: 0.2789 - accuracy: 0.8927 - val_loss: 0.4580 - val_accuracy: 0.8113\n",
      "Epoch 6/50\n",
      "37/37 [==============================] - 1s 22ms/step - loss: 0.2448 - accuracy: 0.9066 - val_loss: 0.4442 - val_accuracy: 0.8133\n",
      "Epoch 7/50\n",
      "37/37 [==============================] - 1s 22ms/step - loss: 0.2168 - accuracy: 0.9210 - val_loss: 0.4360 - val_accuracy: 0.8128\n",
      "Epoch 8/50\n",
      "37/37 [==============================] - 1s 22ms/step - loss: 0.1956 - accuracy: 0.9248 - val_loss: 0.4382 - val_accuracy: 0.8084\n",
      "Epoch 9/50\n",
      "37/37 [==============================] - 1s 22ms/step - loss: 0.1819 - accuracy: 0.9345 - val_loss: 0.4432 - val_accuracy: 0.8044\n",
      "Epoch 10/50\n",
      "37/37 [==============================] - 1s 22ms/step - loss: 0.1551 - accuracy: 0.9451 - val_loss: 0.4548 - val_accuracy: 0.8030\n",
      "Epoch 11/50\n",
      "37/37 [==============================] - 1s 22ms/step - loss: 0.1350 - accuracy: 0.9567 - val_loss: 0.4723 - val_accuracy: 0.7980\n",
      "Epoch 12/50\n",
      "37/37 [==============================] - 1s 22ms/step - loss: 0.1210 - accuracy: 0.9586 - val_loss: 0.4949 - val_accuracy: 0.7946\n",
      "Epoch 13/50\n",
      "37/37 [==============================] - 1s 22ms/step - loss: 0.1041 - accuracy: 0.9689 - val_loss: 0.5256 - val_accuracy: 0.7985\n",
      "Epoch 14/50\n",
      "37/37 [==============================] - 1s 22ms/step - loss: 0.0920 - accuracy: 0.9728 - val_loss: 0.5371 - val_accuracy: 0.7956\n",
      "Epoch 15/50\n",
      "37/37 [==============================] - 1s 22ms/step - loss: 0.0779 - accuracy: 0.9782 - val_loss: 0.5567 - val_accuracy: 0.7936\n",
      "Epoch 16/50\n",
      "37/37 [==============================] - 1s 22ms/step - loss: 0.0674 - accuracy: 0.9814 - val_loss: 0.5801 - val_accuracy: 0.7921\n",
      "Epoch 17/50\n",
      "37/37 [==============================] - 1s 23ms/step - loss: 0.0605 - accuracy: 0.9844 - val_loss: 0.5997 - val_accuracy: 0.7931\n",
      "Epoch 18/50\n",
      "37/37 [==============================] - 1s 22ms/step - loss: 0.0536 - accuracy: 0.9875 - val_loss: 0.6168 - val_accuracy: 0.7946\n",
      "Epoch 19/50\n",
      "37/37 [==============================] - 1s 22ms/step - loss: 0.0496 - accuracy: 0.9867 - val_loss: 0.6581 - val_accuracy: 0.7926\n",
      "Epoch 20/50\n",
      "37/37 [==============================] - 1s 22ms/step - loss: 0.0427 - accuracy: 0.9924 - val_loss: 0.6640 - val_accuracy: 0.7892\n",
      "Epoch 21/50\n",
      "37/37 [==============================] - 1s 23ms/step - loss: 0.0358 - accuracy: 0.9935 - val_loss: 0.6778 - val_accuracy: 0.7926\n",
      "Epoch 22/50\n",
      "37/37 [==============================] - 1s 23ms/step - loss: 0.0327 - accuracy: 0.9951 - val_loss: 0.6957 - val_accuracy: 0.7946\n",
      "Epoch 23/50\n",
      "37/37 [==============================] - 1s 23ms/step - loss: 0.0288 - accuracy: 0.9958 - val_loss: 0.7088 - val_accuracy: 0.7916\n",
      "Epoch 24/50\n",
      "37/37 [==============================] - 1s 23ms/step - loss: 0.0249 - accuracy: 0.9968 - val_loss: 0.7326 - val_accuracy: 0.7951\n",
      "Epoch 25/50\n",
      "37/37 [==============================] - 1s 23ms/step - loss: 0.0241 - accuracy: 0.9964 - val_loss: 0.7207 - val_accuracy: 0.7951\n",
      "Epoch 26/50\n",
      "37/37 [==============================] - 1s 24ms/step - loss: 0.0216 - accuracy: 0.9975 - val_loss: 0.7350 - val_accuracy: 0.7946\n",
      "Epoch 27/50\n",
      "37/37 [==============================] - 1s 23ms/step - loss: 0.0202 - accuracy: 0.9975 - val_loss: 0.7587 - val_accuracy: 0.7906\n",
      "Epoch 28/50\n",
      "37/37 [==============================] - 1s 24ms/step - loss: 0.0189 - accuracy: 0.9973 - val_loss: 0.7534 - val_accuracy: 0.7970\n",
      "Epoch 29/50\n",
      "37/37 [==============================] - 1s 24ms/step - loss: 0.0177 - accuracy: 0.9983 - val_loss: 0.7532 - val_accuracy: 0.8010\n",
      "Epoch 30/50\n",
      "37/37 [==============================] - 1s 24ms/step - loss: 0.0159 - accuracy: 0.9979 - val_loss: 0.7611 - val_accuracy: 0.7961\n",
      "Epoch 31/50\n",
      "37/37 [==============================] - 1s 23ms/step - loss: 0.0163 - accuracy: 0.9979 - val_loss: 0.7866 - val_accuracy: 0.7951\n",
      "Epoch 32/50\n",
      "37/37 [==============================] - 1s 22ms/step - loss: 0.0159 - accuracy: 0.9975 - val_loss: 0.7843 - val_accuracy: 0.8010\n",
      "Epoch 33/50\n",
      "37/37 [==============================] - 1s 22ms/step - loss: 0.0133 - accuracy: 0.9987 - val_loss: 0.7902 - val_accuracy: 0.7970\n",
      "Epoch 34/50\n",
      "37/37 [==============================] - 1s 22ms/step - loss: 0.0151 - accuracy: 0.9979 - val_loss: 0.7854 - val_accuracy: 0.8005\n",
      "Epoch 35/50\n",
      "37/37 [==============================] - 1s 22ms/step - loss: 0.0121 - accuracy: 0.9981 - val_loss: 0.8042 - val_accuracy: 0.7975\n",
      "Epoch 36/50\n",
      "37/37 [==============================] - 1s 22ms/step - loss: 0.0121 - accuracy: 0.9985 - val_loss: 0.8159 - val_accuracy: 0.7941\n",
      "Epoch 37/50\n",
      "37/37 [==============================] - 1s 23ms/step - loss: 0.0118 - accuracy: 0.9981 - val_loss: 0.8173 - val_accuracy: 0.8025\n",
      "Epoch 38/50\n",
      "37/37 [==============================] - 1s 24ms/step - loss: 0.0102 - accuracy: 0.9985 - val_loss: 0.8160 - val_accuracy: 0.7980\n",
      "Epoch 39/50\n",
      "37/37 [==============================] - 1s 24ms/step - loss: 0.0096 - accuracy: 0.9987 - val_loss: 0.8343 - val_accuracy: 0.7995\n",
      "Epoch 40/50\n",
      "37/37 [==============================] - 1s 24ms/step - loss: 0.0093 - accuracy: 0.9987 - val_loss: 0.8310 - val_accuracy: 0.8005\n",
      "Epoch 41/50\n",
      "37/37 [==============================] - 1s 24ms/step - loss: 0.0080 - accuracy: 0.9996 - val_loss: 0.8344 - val_accuracy: 0.7970\n",
      "Epoch 42/50\n",
      "37/37 [==============================] - 1s 24ms/step - loss: 0.0079 - accuracy: 0.9996 - val_loss: 0.8498 - val_accuracy: 0.8005\n",
      "Epoch 43/50\n",
      "37/37 [==============================] - 1s 22ms/step - loss: 0.0086 - accuracy: 0.9989 - val_loss: 0.8681 - val_accuracy: 0.7975\n",
      "Epoch 44/50\n",
      "37/37 [==============================] - 1s 22ms/step - loss: 0.0082 - accuracy: 0.9992 - val_loss: 0.8619 - val_accuracy: 0.7995\n",
      "Epoch 45/50\n",
      "37/37 [==============================] - 1s 22ms/step - loss: 0.0079 - accuracy: 0.9989 - val_loss: 0.8746 - val_accuracy: 0.7867\n",
      "Epoch 46/50\n",
      "37/37 [==============================] - 1s 23ms/step - loss: 0.0094 - accuracy: 0.9985 - val_loss: 0.8710 - val_accuracy: 0.7901\n",
      "Epoch 47/50\n",
      "37/37 [==============================] - 1s 22ms/step - loss: 0.0081 - accuracy: 0.9994 - val_loss: 0.8971 - val_accuracy: 0.7926\n",
      "Epoch 48/50\n",
      "37/37 [==============================] - 1s 22ms/step - loss: 0.0073 - accuracy: 0.9994 - val_loss: 0.8937 - val_accuracy: 0.7951\n",
      "Epoch 49/50\n",
      "37/37 [==============================] - 1s 23ms/step - loss: 0.0067 - accuracy: 0.9996 - val_loss: 0.8999 - val_accuracy: 0.7901\n",
      "Epoch 50/50\n",
      "37/37 [==============================] - 1s 24ms/step - loss: 0.0058 - accuracy: 0.9994 - val_loss: 0.9130 - val_accuracy: 0.7887\n"
     ]
    },
    {
     "data": {
      "text/plain": [
       "<keras.callbacks.History at 0x2532a07dbb0>"
      ]
     },
     "execution_count": 52,
     "metadata": {},
     "output_type": "execute_result"
    }
   ],
   "source": [
    "# for train, test in kfold.split(X, y):\n",
    "\n",
    "model = DCNNv1(num_features, num_classes)\n",
    "\n",
    "model.fit(\n",
    "    X_train, y_train,\n",
    "    validation_data=(X_test, y_test_keras),\n",
    "    epochs=num_epochs,\n",
    "    batch_size=128,\n",
    "    verbose=True,\n",
    ")\n"
   ]
  },
  {
   "cell_type": "code",
   "execution_count": 53,
   "metadata": {},
   "outputs": [
    {
     "data": {
      "image/png": "[encoded data removed]",
      "text/plain": [
       "<Figure size 432x288 with 1 Axes>"
      ]
     },
     "metadata": {
      "needs_background": "light"
     },
     "output_type": "display_data"
    }
   ],
   "source": [
    "plt.plot(model.history.history['accuracy'])\n",
    "plt.plot(model.history.history['val_accuracy'])\n",
    "plt.title('model accuracy')\n",
    "plt.ylabel('accuracy')\n",
    "plt.xlabel('epoch')\n",
    "plt.legend(['train', 'val'], loc='upper left')\n",
    "plt.show()"
   ]
  },
  {
   "cell_type": "code",
   "execution_count": 54,
   "metadata": {},
   "outputs": [
    {
     "name": "stdout",
     "output_type": "stream",
     "text": [
      "64/64 [==============================] - 0s 5ms/step\n",
      "CV: \n"
     ]
    },
    {
     "data": {
      "image/png": "[encoded data removed]",
      "text/plain": [
       "<Figure size 432x288 with 2 Axes>"
      ]
     },
     "metadata": {
      "needs_background": "light"
     },
     "output_type": "display_data"
    }
   ],
   "source": [
    "predictions = model.predict(\n",
    "    X_test)\n",
    "predictions = np.argmax(predictions, axis=1)\n",
    "true_labels = np.asarray(y_test)\n",
    "print('CV: ')\n",
    "sns.heatmap(pd.DataFrame(confusion_matrix(true_labels, predictions), range(num_classes), range(num_classes)), annot=True)\n",
    "plt.show()\n"
   ]
  },
  {
   "cell_type": "code",
   "execution_count": null,
   "metadata": {},
   "outputs": [],
   "source": [
    "# train = test: make model bigger/dense\n",
    "# increase batch size\n",
    "# train > test: decrease complexity, add dropout, normalization\n",
    "# use stride-2 conv layers instead of maxpooling\n",
    "# increase filter size\n",
    "# possibly add dense layers first\n",
    "# possibly add conv1d\n",
    "# add more gradual dense layers (dropouts in between)\n",
    "# add batch normalisation"
   ]
  },
  {
   "cell_type": "code",
   "execution_count": 6,
   "metadata": {},
   "outputs": [],
   "source": [
    "Sequence = 'CATGCTGACTAGCTG'\n",
    "BinaryEncoding = 110001101101100011010010110110\n"
   ]
  },
  {
   "cell_type": "code",
   "execution_count": 12,
   "metadata": {},
   "outputs": [
    {
     "data": {
      "text/html": [
       "<div>\n",
       "<style scoped>\n",
       "    .dataframe tbody tr th:only-of-type {\n",
       "        vertical-align: middle;\n",
       "    }\n",
       "\n",
       "    .dataframe tbody tr th {\n",
       "        vertical-align: top;\n",
       "    }\n",
       "\n",
       "    .dataframe thead th {\n",
       "        text-align: right;\n",
       "    }\n",
       "</style>\n",
       "<table border=\"1\" class=\"dataframe\">\n",
       "  <thead>\n",
       "    <tr style=\"text-align: right;\">\n",
       "      <th></th>\n",
       "      <th></th>\n",
       "      <th></th>\n",
       "    </tr>\n",
       "  </thead>\n",
       "  <tbody>\n",
       "    <tr>\n",
       "      <th>0</th>\n",
       "      <td>Binary Encoding</td>\n",
       "      <td>1100011011011000110100101101100110011110000110...</td>\n",
       "    </tr>\n",
       "    <tr>\n",
       "      <th>1</th>\n",
       "      <td>Sequence</td>\n",
       "      <td>CATGCTGACTAGCTG</td>\n",
       "    </tr>\n",
       "  </tbody>\n",
       "</table>\n",
       "</div>"
      ],
      "text/plain": [
       "                                                                     \n",
       "0  Binary Encoding  1100011011011000110100101101100110011110000110...\n",
       "1         Sequence                                    CATGCTGACTAGCTG"
      ]
     },
     "execution_count": 12,
     "metadata": {},
     "output_type": "execute_result"
    }
   ],
   "source": [
    "pd.DataFrame([['Binary Encoding', BinaryEncoding], ['Sequence', Sequence]], columns=['', ''])"
   ]
  },
  {
   "cell_type": "code",
   "execution_count": 7,
   "metadata": {},
   "outputs": [
    {
     "name": "stdout",
     "output_type": "stream",
     "text": [
      "110001101101100011010010110110\n"
     ]
    }
   ],
   "source": [
    "maps = {\n",
    "    'A': '00',\n",
    "    'T': '01',\n",
    "    'G': '10',\n",
    "    'C': '11'\n",
    "}\n",
    "\n",
    "print(''.join([maps[i] for i in Sequence]))"
   ]
  },
  {
   "cell_type": "code",
   "execution_count": null,
   "metadata": {},
   "outputs": [],
   "source": []
  }
 ],
 "metadata": {
  "kernelspec": {
   "display_name": "Python 3.9.12 ('base')",
   "language": "python",
   "name": "python3"
  },
  "language_info": {
   "codemirror_mode": {
    "name": "ipython",
    "version": 3
   },
   "file_extension": ".py",
   "mimetype": "text/x-python",
   "name": "python",
   "nbconvert_exporter": "python",
   "pygments_lexer": "ipython3",
   "version": "3.9.12"
  },
  "orig_nbformat": 4,
  "vscode": {
   "interpreter": {
    "hash": "0467c16d4e73dba61dcc106221b4b7c95372fa61fc6cc648ee99bca30bbaf279"
   }
  }
 },
 "nbformat": 4,
 "nbformat_minor": 2
}
